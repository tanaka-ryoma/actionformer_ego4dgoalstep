{
 "cells": [
  {
   "cell_type": "code",
   "execution_count": null,
   "metadata": {},
   "outputs": [],
   "source": [
    "import matplotlib.pyplot as plt\n",
    "import json\n",
    "from collections import Counter\n",
    "\n",
    "fid1 = \"/groups/gag51400/users/rtanaka/github/ActionFormer/actionformer_release/goalstep_train.json\"\n",
    "fid2 = \"/groups/gag51400/users/rtanaka/github/ActionFormer/actionformer_release/goalstep_val.json\"\n",
    "\n",
    "unique_categories = set()\n",
    "category_counter = Counter()\n",
    "\n",
    "\n",
    "def extract_categories(json_path):\n",
    "    with open(json_path, 'r') as fid:\n",
    "        json_data = json.load(fid)\n",
    "            \n",
    "        #json_db = json_data['database']\n",
    "        #json_db = json_data\n",
    "\n",
    "        for video in json_data.get('videos', []):\n",
    "            for segment in video.get('segments', []):\n",
    "                category = segment.get('step_category')\n",
    "                if category:\n",
    "                    unique_categories.add(category)      # 重複を避けてセットに追加\n",
    "                    category_counter[category] += 1  \n",
    "\n",
    "# 2つのJSONファイルからカテゴリを抽出\n",
    "extract_categories(fid1)\n",
    "extract_categories(fid2)\n",
    "\n",
    "# 一意のカテゴリをテキストファイルに書き出す\n",
    "with open('step_category.txt', 'w') as txt_file:\n",
    "    for category in unique_categories:\n",
    "        txt_file.write(category + '\\n')\n",
    "\n",
    "# 出現回数のグラフをプロット\n",
    "plt.figure(figsize=(10, 6))\n",
    "plt.bar(category_counter.keys(), category_counter.values())\n",
    "plt.xlabel('Category')\n",
    "plt.ylabel('Frequency')\n",
    "plt.title('Category Frequency')\n",
    "plt.xticks(rotation=45, ha='right')\n",
    "plt.tight_layout()\n",
    "plt.savefig('category_frequency.png')  # グラフを保存\n",
    "plt.show()"
   ]
  },
  {
   "cell_type": "code",
   "execution_count": 14,
   "metadata": {},
   "outputs": [
    {
     "name": "stdout",
     "output_type": "stream",
     "text": [
      "[474, 58, 24, 15, 9, 3]\n",
      "[[6046.9375, 4337.875, 4320.351806640625, 5203.75, 5950.625, 5950.625, 5841.625, 4904.601806640626, 4388.5, 4801.9375, 5862.5, 4254.851806640626, 4356.0, 4905.187500000001, 4923.375, 4354.5625, 5980.8125, 4188.976806640625, 4833.6875, 5422.1875, 4819.4375, 5447.9605712890625, 4254.6875, 5156.1875, 5950.625, 5793.000000000001, 5195.812500000001, 4475.226806640626, 5252.375, 4171.539306640625, 5279.250000000001, 4624.875000000001, 4171.2105712890625, 4304.375, 5582.1875, 5950.625, 4953.8125, 6077.9605712890625, 4856.437500000001, 5150.25, 4909.5, 5412.0, 4285.75, 4410.101806640625, 5255.6875, 4624.75, 4514.625, 4576.9375, 4967.1875, 4154.289306640625, 4920.2730712890625, 5568.851806640625, 4676.601806640625, 4847.914306640625, 4547.4375, 5960.414306640625, 4220.726806640625, 5583.400571289063], [6184.75, 6601.5625, 7212.500000000001, 6466.125000000001, 6998.375, 7457.187500000001, 6301.4375, 6677.1875, 7234.312500000001, 6893.3125, 6212.3125, 7834.3980712890625, 6266.75, 6444.125, 7934.5, 8135.5625, 7119.0625, 6430.414306640625, 7934.5, 7175.125, 6240.75, 6695.375, 7254.124999999999, 7934.485571289062], [8230.023071289062, 9918.4375, 10031.937500000002, 10141.125, 9761.875, 8243.125, 8670.625, 9967.5, 10067.375, 8741.398071289062, 9484.375, 8431.0625, 8545.460571289062, 8604.3125, 9918.366821289062], [10677.125, 10688.8125, 11867.0625, 11902.250000000002, 10994.0, 10792.250000000002, 10326.0, 10987.250000000002, 11902.250000000002], [31821.5, 13531.1875, 33168.366821289055]]\n",
      "[58, 24, 15, 9, 3]\n",
      "[104, 15, 6, 6, 2, 1]\n",
      "[[4463.914306640626, 5195.1875, 4192.0625, 5170.1875, 6078.625, 6137.5, 4261.976806640625, 5375.812500000001, 5016.750000000001, 5899.0625, 4984.414306640625, 5033.976806640626, 5219.7105712890625, 4320.3125, 5244.726806640625], [6601.5625, 6633.8125, 7163.351806640626, 7009.312500000001, 6793.0, 6761.3125], [9473.187500000002, 9872.710571289062, 10170.125, 9918.4375, 9260.5625, 8911.191821289061], [10395.125, 10585.0], [13544.0]]\n",
      "[15, 6, 6, 2, 1]\n"
     ]
    }
   ],
   "source": [
    "import json\n",
    "from collections import Counter\n",
    "from re import A\n",
    "\n",
    "fid1 = \"/home/ubuntu/slocal/ActionFormer/actionformer_release/goalstep_train_withID_subset.json\"\n",
    "fid2 = \"/home/ubuntu/slocal/ActionFormer/actionformer_release/goalstep_val_withID_subset.json\"\n",
    "\n",
    "# over_list = [[],[],[],[],[]]\n",
    "# count = [[0] for _ in range (6)]\n",
    "# time = 0.0\n",
    "\n",
    "def extract_categories(json_path):\n",
    "\n",
    "    over_list = [[],[],[],[],[]]\n",
    "    count = [0 for _ in range (6)]\n",
    "    time = 0.0\n",
    "\n",
    "    with open(json_path, 'r') as fid:\n",
    "        json_data = json.load(fid)\n",
    "            \n",
    "        #json_db = json_data['database']\n",
    "        #json_db = json_data\n",
    "\n",
    "        for video in json_data.get('videos', []):\n",
    "            time = video.get('end_time')\n",
    "            feats = (time-0.0210286458333333)*15/8-1\n",
    "            if feats <= 4096:\n",
    "                count[0] += 1\n",
    "            elif feats <= 6144:\n",
    "                count[1] += 1\n",
    "                over_list[0].append(feats)\n",
    "            elif feats <= 8192:\n",
    "                count[2] += 1\n",
    "                over_list[1].append(feats)\n",
    "            elif feats <= 10240:\n",
    "                count[3] += 1\n",
    "                over_list[2].append(feats)\n",
    "            elif feats <= 12288:\n",
    "                count[4] += 1\n",
    "                over_list[3].append(feats)\n",
    "            else:\n",
    "                count[5] += 1\n",
    "                over_list[4].append(feats)\n",
    "\n",
    "    print(count)\n",
    "    print(over_list)\n",
    "    print([len(v) for v in over_list])\n",
    "\n",
    "extract_categories(fid1)\n",
    "extract_categories(fid2)"
   ]
  },
  {
   "cell_type": "code",
   "execution_count": 1,
   "metadata": {},
   "outputs": [
    {
     "name": "stdout",
     "output_type": "stream",
     "text": [
      "size torch.Size([996, 1536])\n"
     ]
    },
    {
     "name": "stderr",
     "output_type": "stream",
     "text": [
      "/home/ubuntu/slocal/ActionFormer/.venv/lib/python3.8/site-packages/tqdm/auto.py:21: TqdmWarning: IProgress not found. Please update jupyter and ipywidgets. See https://ipywidgets.readthedocs.io/en/stable/user_install.html\n",
      "  from .autonotebook import tqdm as notebook_tqdm\n"
     ]
    }
   ],
   "source": [
    "import torch\n",
    "\n",
    "#filename = \"c79e05d5-eaf6-4323-a707-744020743037.pt\"\n",
    "file_path = \"/home/ubuntu/slocal/ActionFormer/actionformer_release/v2/omnivore_video_swinl/51224e32-3d6c-4148-9eea-7b73da751f25.pt\"\n",
    "\n",
    "data = torch.load(file_path)\n",
    "\n",
    "print(\"size\", data.shape)"
   ]
  },
  {
   "cell_type": "code",
   "execution_count": null,
   "metadata": {},
   "outputs": [],
   "source": [
    "import json\n",
    "\n",
    "# JSONファイルの読み込み\n",
    "json_file_path = \"/groups/gag51400/users/rtanaka/github/ActionFormer/actionformer_release/goalstep_val.json\"\n",
    "with open(json_file_path, 'r') as f:\n",
    "    data = json.load(f)\n",
    "\n",
    "# テキストファイルの読み込み\n",
    "txt_file_path = '/groups/gag51400/users/rtanaka/github/ActionFormer/actionformer_release/step_category.txt'\n",
    "with open(txt_file_path, 'r') as f:\n",
    "    steps = [line.strip() for line in f if line.strip()]\n",
    "\n",
    "# インデックスをキー、要素を値とする辞書を作成\n",
    "step_dict = {i: step for i, step in enumerate(steps)}\n",
    "\n",
    "# step_idを追加\n",
    "step_id = 0  # 初期のステップID\n",
    "\n",
    "for video in data['videos']:\n",
    "    for segment in video['segments']:\n",
    "        if segment.get('step_category') in steps:\n",
    "            step_id = steps.index(segment['step_category'])  # 一致するインデックスを取得\n",
    "            segment['step_id'] = step_id  # セグメントにstep_idを追加\n",
    "\n",
    "# JSONファイルの書き出し\n",
    "output_file_path = 'goalstep_val_withID.json'\n",
    "with open(output_file_path, 'w') as f:\n",
    "    json.dump(data, f, indent=4)\n",
    "\n",
    "print(\"step_idを追加したJSONファイルを保存しました。\")"
   ]
  },
  {
   "cell_type": "code",
   "execution_count": 3,
   "metadata": {},
   "outputs": [
    {
     "name": "stdout",
     "output_type": "stream",
     "text": [
      "含まれていない要素: [33, 56, 101, 111, 118, 198, 206, 227, 243, 272, 308, 353, 427]\n"
     ]
    }
   ],
   "source": [
    "import json\n",
    "\n",
    "fid1 = \"/home/ubuntu/slocal/ActionFormer/actionformer_release/goalstep_train_withID_subset.json\"\n",
    "fid2 = \"/home/ubuntu/slocal/ActionFormer/actionformer_release/goalstep_val_withID_subset.json\"\n",
    "\n",
    "\n",
    "list_A = []\n",
    "list_B = []\n",
    "\n",
    "\n",
    "def extract_categories(json_path):\n",
    "    step_id = []\n",
    "    with open(json_path, 'r') as fid:\n",
    "        json_data = json.load(fid)\n",
    "            \n",
    "        #json_db = json_data['database']\n",
    "        #json_db = json_data\n",
    "\n",
    "        for video in json_data.get('videos', []):\n",
    "            for segment in video.get('segments', []):\n",
    "                category = segment.get('step_id')\n",
    "                step_id.append(category)\n",
    "                \n",
    "    return step_id\n",
    "\n",
    "list_A = set(extract_categories(fid2))\n",
    "list_B = set(extract_categories(fid1))\n",
    "\n",
    "# 含まれていない要素を見つける\n",
    "missing_elements = [item for item in list_A if item not in list_B]\n",
    "\n",
    "# 結果を表示\n",
    "if missing_elements:\n",
    "    print(\"含まれていない要素:\", missing_elements)\n",
    "else:\n",
    "    print(\"リストAの全ての要素はリストBに含まれています。\")"
   ]
  },
  {
   "cell_type": "code",
   "execution_count": null,
   "metadata": {},
   "outputs": [],
   "source": [
    "import json\n",
    "\n",
    "# JSONファイルの読み込み\n",
    "json_file_path = \"/groups/gag51400/users/rtanaka/github/ActionFormer/actionformer_release/goalstep_train_withID.json\"\n",
    "with open(json_file_path, 'r') as f:\n",
    "    data = json.load(f)\n",
    "\n",
    "for video in data['videos']:\n",
    "    video['subset'] = \"train\"  # セグメントにstep_idを追加\n",
    "\n",
    "# JSONファイルの書き出し\n",
    "output_file_path = 'goalstep_train_withID_subset.json'\n",
    "with open(output_file_path, 'w') as f:\n",
    "    json.dump(data, f, indent=4)\n",
    "\n",
    "print(\"subsetを追加したJSONファイルを保存しました。\")"
   ]
  }
 ],
 "metadata": {
  "kernelspec": {
   "display_name": ".venv",
   "language": "python",
   "name": "python3"
  },
  "language_info": {
   "codemirror_mode": {
    "name": "ipython",
    "version": 3
   },
   "file_extension": ".py",
   "mimetype": "text/x-python",
   "name": "python",
   "nbconvert_exporter": "python",
   "pygments_lexer": "ipython3",
   "version": "3.8.0"
  }
 },
 "nbformat": 4,
 "nbformat_minor": 2
}
