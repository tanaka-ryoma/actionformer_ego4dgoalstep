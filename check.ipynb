{
 "cells": [
  {
   "cell_type": "code",
   "execution_count": null,
   "metadata": {},
   "outputs": [],
   "source": [
    "import numpy as np\n",
    "np .load()"
   ]
  },
  {
   "cell_type": "code",
   "execution_count": null,
   "metadata": {},
   "outputs": [],
   "source": [
    "thumos True ['validation'] kwargs: {'json_file': './data/thumos/annotations/thumos14.json', 'feat_folder': './data/thumos/i3d_features', 'file_prefix': None, 'file_ext': '.npy', 'num_classes': 20, 'input_dim': 2048, 'feat_stride': 4, 'num_frames': 16, 'trunc_thresh': 0.5, 'crop_ratio': [0.9, 1.0], 'max_seq_len': 2304, 'default_fps': None, 'downsample_rate': 1, 'force_upsampling': False}\n",
    "owto100m True ['train'] kwargs: {'json_file': './data/HT-step/annotations.json', 'text_file': './data/HT-step/taxonomy.csv', 'feat_folder': './data/howto100m/howto100m_s3d_features', 'file_prefix': None, 'file_ext': '.npy', 'num_classes': 4958, 'input_dim': 1024, 'default_fps': 30, 'feat_stride': 16, 'num_frames': 16, 'trunc_thresh': 0.5, 'crop_ratio': [0.9, 1.0], 'max_seq_len': 2304, 'downsample_rate': 1, 'force_upsampling': False}"
   ]
  }
 ],
 "metadata": {
  "kernelspec": {
   "display_name": "Python 3",
   "language": "python",
   "name": "python3"
  },
  "language_info": {
   "name": "python",
   "version": "3.10.12"
  }
 },
 "nbformat": 4,
 "nbformat_minor": 2
}
